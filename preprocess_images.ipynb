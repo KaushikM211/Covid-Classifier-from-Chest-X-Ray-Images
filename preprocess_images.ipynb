{
 "cells": [
  {
   "cell_type": "code",
   "execution_count": 1,
   "metadata": {},
   "outputs": [],
   "source": [
    "import skimage.io as io\n",
    "from skimage.transform import  rescale,resize\n",
    "from skimage.util import img_as_uint,img_as_ubyte\n",
    "from skimage.color import rgb2gray\n",
    "from skimage import exposure\n",
    "import os\n",
    "import numpy as np"
   ]
  },
  {
   "cell_type": "code",
   "execution_count": 2,
   "metadata": {},
   "outputs": [],
   "source": [
    "class_name='covid'#'covid' or 'normal' or 'pneumonia'\n",
    "source_dir='dataset/original_images/'+class_name\n",
    "destination_dir='dataset/original_images_preprocessed/'+class_name"
   ]
  },
  {
   "cell_type": "code",
   "execution_count": 3,
   "metadata": {},
   "outputs": [],
   "source": [
    "image_list=os.listdir(source_dir)# list of images"
   ]
  },
  {
   "cell_type": "code",
   "execution_count": 4,
   "metadata": {},
   "outputs": [
    {
     "name": "stderr",
     "output_type": "stream",
     "text": [
      "F:\\Anaconda\\lib\\site-packages\\skimage\\util\\dtype.py:135: UserWarning: Possible precision loss when converting from float64 to uint16\n",
      "  .format(dtypeobj_in, dtypeobj_out))\n",
      "F:\\Anaconda\\lib\\site-packages\\skimage\\util\\dtype.py:135: UserWarning: Possible precision loss when converting from float64 to uint8\n",
      "  .format(dtypeobj_in, dtypeobj_out))\n"
     ]
    }
   ],
   "source": [
    "for img_name in image_list:\n",
    "    img=io.imread(os.path.join(source_dir,img_name))\n",
    "    img_gray = rgb2gray(img)\n",
    "    img_resized = resize(img_gray, (512, 512))#convert image size to 512*512\n",
    "    img_rescaled=(img_resized-np.min(img_resized))/(np.max(img_resized)-np.min(img_resized))#min-max normalization \n",
    "    img_enhanced=exposure.equalize_adapthist(img_rescaled)#adapt hist\n",
    "    img_resized_8bit=img_as_ubyte(img_enhanced)\n",
    "    io.imsave(os.path.join(destination_dir,img_name),img_resized_8bit)#save enhanced image to destination dir"
   ]
  }
 ],
 "metadata": {
  "kernelspec": {
   "display_name": "Python 3",
   "language": "python",
   "name": "python3"
  },
  "language_info": {
   "codemirror_mode": {
    "name": "ipython",
    "version": 3
   },
   "file_extension": ".py",
   "mimetype": "text/x-python",
   "name": "python",
   "nbconvert_exporter": "python",
   "pygments_lexer": "ipython3",
   "version": "3.7.4"
  }
 },
 "nbformat": 4,
 "nbformat_minor": 2
}
